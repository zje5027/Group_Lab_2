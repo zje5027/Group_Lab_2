{
  "nbformat": 4,
  "nbformat_minor": 0,
  "metadata": {
    "colab": {
      "name": "Group_Lab_2.ipynb",
      "provenance": [],
      "authorship_tag": "ABX9TyOZ9UbxMPFnu9WhJRUn/U2k",
      "include_colab_link": true
    },
    "kernelspec": {
      "name": "python3",
      "display_name": "Python 3"
    }
  },
  "cells": [
    {
      "cell_type": "markdown",
      "metadata": {
        "id": "view-in-github",
        "colab_type": "text"
      },
      "source": [
        "<a href=\"https://colab.research.google.com/github/zje5027/Group_Lab_2/blob/main/Group_Lab_2.ipynb\" target=\"_parent\"><img src=\"https://colab.research.google.com/assets/colab-badge.svg\" alt=\"Open In Colab\"/></a>"
      ]
    },
    {
      "cell_type": "markdown",
      "metadata": {
        "id": "3Gv1qyq_4_aS"
      },
      "source": [
        "Zachary End"
      ]
    },
    {
      "cell_type": "markdown",
      "metadata": {
        "id": "SD56TJcJw44v"
      },
      "source": [
        "I didn’t have to do too much to edit my original ER diagram as it was already in first normal form as the simplicity of our original meant there were already no repeating values. As for what I did add, my Er diagram was lacking cardinality. I chose a one to one mandatory for the users to Transaction table because a transaction cannot exist without a user initiating it and there cannot be a transaction initiated without a user. As for the rest of the connections of the various media types to the transactions table, I made that a mandatory one to optional many. The rationale behind this decision was that none of these items can be rented unless a transaction is first initiated, and a customer cannot complete more than one transaction at a time so there is always one and only one transaction. I made the upper limit of rentals for each media type five as our business model would limit users to renting five of each media type at a time.  The transactions table was added for better organization of data and to improve the connections between the tables. Finally, the way I read the diagram is from left to right with this verbiage: One customer initiates one transaction that rents one to many books, movies, newspapers, and or magazines. The books, movies, etc are rented through a transaction which is initiated by the customer."
      ]
    },
    {
      "cell_type": "markdown",
      "metadata": {
        "id": "lDkDk0E2v6Lk"
      },
      "source": [
        "for "
      ]
    },
    {
      "cell_type": "markdown",
      "metadata": {
        "id": "FvOvIYcJwvdY"
      },
      "source": [
        "![ER diagram of media rental sevice](https://nbviewer.jupyter.org/github/zje5027/Group_Lab_2/blob/main/Group%20Lab%202.png)"
      ]
    },
    {
      "cell_type": "markdown",
      "metadata": {
        "id": "GOh1CEIKw3T4"
      },
      "source": [
        ""
      ]
    }
  ]
}